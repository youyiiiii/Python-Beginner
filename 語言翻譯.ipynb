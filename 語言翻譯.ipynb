{
 "cells": [
  {
   "cell_type": "code",
   "execution_count": 97,
   "id": "62282004-c07c-4b9e-b198-ef922feb131d",
   "metadata": {},
   "outputs": [
    {
     "name": "stdout",
     "output_type": "stream",
     "text": [
      "Requirement already satisfied: pygame in c:\\users\\asus\\anaconda3\\lib\\site-packages (2.6.1)\n"
     ]
    }
   ],
   "source": [
    "!pip install pygame"
   ]
  },
  {
   "cell_type": "code",
   "execution_count": null,
   "id": "2eea97e8-d917-4bbc-81a1-a4a2028b9090",
   "metadata": {},
   "outputs": [],
   "source": [
    "! pip install googletrans"
   ]
  },
  {
   "cell_type": "code",
   "execution_count": 1,
   "id": "65ac08e7-641d-459b-8b86-76ea8c7d5241",
   "metadata": {},
   "outputs": [
    {
     "name": "stdout",
     "output_type": "stream",
     "text": [
      "pygame 2.6.1 (SDL 2.28.4, Python 3.12.4)\n",
      "Hello from the pygame community. https://www.pygame.org/contribute.html\n"
     ]
    }
   ],
   "source": [
    "#Course 99\n",
    "import speech_recognition\n",
    "import tempfile\n",
    "from gtts import gTTS\n",
    "from pygame import mixer\n",
    "def listenTo():\n",
    "    r = speech_recognition.Recognizer()\n",
    "\n",
    "    with speech_recognition.Microphone() as source:\n",
    "        r.adjust_for_ambient_noise(source)\n",
    "        audio = r.listen(source)\n",
    "\n",
    "    return r.recognize_google(audio, language='zh-TW')\n",
    "\n",
    "\n",
    "def speak(sentence, lang):\n",
    "    mixer.init()\n",
    "    with tempfile.NamedTemporaryFile(delete=True) as fp:\n",
    "        tts = gTTS(text=sentence, lang=lang)\n",
    "        tts.save(\"{}.mp3\".format(fp.name))\n",
    "        mixer.music.load('{}.mp3'.format(fp.name))\n",
    "        mixer.music.play()"
   ]
  },
  {
   "cell_type": "code",
   "execution_count": 3,
   "id": "24ffc99f-b755-444d-8214-11377c341432",
   "metadata": {},
   "outputs": [
    {
     "data": {
      "text/plain": [
       "'Hello everyone'"
      ]
     },
     "execution_count": 3,
     "metadata": {},
     "output_type": "execute_result"
    }
   ],
   "source": [
    "from googletrans import Translator\n",
    "translator = Translator()\n",
    "translator.translate('大家好', dest='en').text"
   ]
  },
  {
   "cell_type": "code",
   "execution_count": 13,
   "id": "80e460b1-07f7-4154-9958-3072952a4397",
   "metadata": {},
   "outputs": [],
   "source": [
    "def listenTop():\n",
    "    import speech_recognition\n",
    "    lang='ja'\n",
    "    A=translator.translate(listenTo(),lang).text\n",
    "    speak(A,lang)\n",
    "    print(A)\n",
    "    B=translator.translate(A,dest='ja')\n",
    "    print(A)"
   ]
  },
  {
   "cell_type": "code",
   "execution_count": 15,
   "id": "78b8a1d3-f60d-4955-8342-d25a6b1a4ef3",
   "metadata": {},
   "outputs": [],
   "source": [
    "def listenTop():\n",
    "    lang='ko'\n",
    "    A=translator.translate(listenTo(),lang).text\n",
    "    speak(A,lang)\n",
    "    print(A)\n",
    "    B=translator.translate(A,dest='ko')\n",
    "    print(B)"
   ]
  },
  {
   "cell_type": "code",
   "execution_count": 9,
   "id": "ba8bcae1-14f4-4e52-925e-af09a48b465b",
   "metadata": {},
   "outputs": [
    {
     "name": "stdout",
     "output_type": "stream",
     "text": [
      "{'afrikaans': 'af',\n",
      " 'albanian': 'sq',\n",
      " 'amharic': 'am',\n",
      " 'arabic': 'ar',\n",
      " 'armenian': 'hy',\n",
      " 'azerbaijani': 'az',\n",
      " 'basque': 'eu',\n",
      " 'belarusian': 'be',\n",
      " 'bengali': 'bn',\n",
      " 'bosnian': 'bs',\n",
      " 'bulgarian': 'bg',\n",
      " 'catalan': 'ca',\n",
      " 'cebuano': 'ceb',\n",
      " 'chichewa': 'ny',\n",
      " 'chinese (simplified)': 'zh-cn',\n",
      " 'chinese (traditional)': 'zh-tw',\n",
      " 'corsican': 'co',\n",
      " 'croatian': 'hr',\n",
      " 'czech': 'cs',\n",
      " 'danish': 'da',\n",
      " 'dutch': 'nl',\n",
      " 'english': 'en',\n",
      " 'esperanto': 'eo',\n",
      " 'estonian': 'et',\n",
      " 'filipino': 'tl',\n",
      " 'finnish': 'fi',\n",
      " 'french': 'fr',\n",
      " 'frisian': 'fy',\n",
      " 'galician': 'gl',\n",
      " 'georgian': 'ka',\n",
      " 'german': 'de',\n",
      " 'greek': 'el',\n",
      " 'gujarati': 'gu',\n",
      " 'haitian creole': 'ht',\n",
      " 'hausa': 'ha',\n",
      " 'hawaiian': 'haw',\n",
      " 'hebrew': 'he',\n",
      " 'hindi': 'hi',\n",
      " 'hmong': 'hmn',\n",
      " 'hungarian': 'hu',\n",
      " 'icelandic': 'is',\n",
      " 'igbo': 'ig',\n",
      " 'indonesian': 'id',\n",
      " 'irish': 'ga',\n",
      " 'italian': 'it',\n",
      " 'japanese': 'ja',\n",
      " 'javanese': 'jw',\n",
      " 'kannada': 'kn',\n",
      " 'kazakh': 'kk',\n",
      " 'khmer': 'km',\n",
      " 'korean': 'ko',\n",
      " 'kurdish (kurmanji)': 'ku',\n",
      " 'kyrgyz': 'ky',\n",
      " 'lao': 'lo',\n",
      " 'latin': 'la',\n",
      " 'latvian': 'lv',\n",
      " 'lithuanian': 'lt',\n",
      " 'luxembourgish': 'lb',\n",
      " 'macedonian': 'mk',\n",
      " 'malagasy': 'mg',\n",
      " 'malay': 'ms',\n",
      " 'malayalam': 'ml',\n",
      " 'maltese': 'mt',\n",
      " 'maori': 'mi',\n",
      " 'marathi': 'mr',\n",
      " 'mongolian': 'mn',\n",
      " 'myanmar (burmese)': 'my',\n",
      " 'nepali': 'ne',\n",
      " 'norwegian': 'no',\n",
      " 'odia': 'or',\n",
      " 'pashto': 'ps',\n",
      " 'persian': 'fa',\n",
      " 'polish': 'pl',\n",
      " 'portuguese': 'pt',\n",
      " 'punjabi': 'pa',\n",
      " 'romanian': 'ro',\n",
      " 'russian': 'ru',\n",
      " 'samoan': 'sm',\n",
      " 'scots gaelic': 'gd',\n",
      " 'serbian': 'sr',\n",
      " 'sesotho': 'st',\n",
      " 'shona': 'sn',\n",
      " 'sindhi': 'sd',\n",
      " 'sinhala': 'si',\n",
      " 'slovak': 'sk',\n",
      " 'slovenian': 'sl',\n",
      " 'somali': 'so',\n",
      " 'spanish': 'es',\n",
      " 'sundanese': 'su',\n",
      " 'swahili': 'sw',\n",
      " 'swedish': 'sv',\n",
      " 'tajik': 'tg',\n",
      " 'tamil': 'ta',\n",
      " 'telugu': 'te',\n",
      " 'thai': 'th',\n",
      " 'turkish': 'tr',\n",
      " 'ukrainian': 'uk',\n",
      " 'urdu': 'ur',\n",
      " 'uyghur': 'ug',\n",
      " 'uzbek': 'uz',\n",
      " 'vietnamese': 'vi',\n",
      " 'welsh': 'cy',\n",
      " 'xhosa': 'xh',\n",
      " 'yiddish': 'yi',\n",
      " 'yoruba': 'yo',\n",
      " 'zulu': 'zu'}\n",
      "Detected(lang=ja, confidence=1)\n",
      "ja\n"
     ]
    }
   ],
   "source": [
    "import googletrans\n",
    "from pprint import pprint\n",
    "pprint(googletrans.LANGCODES)\n",
    "unknown_sentence='おはよう'\n",
    "results=translator.detect(unknown_sentence)\n",
    "print(results)\n",
    "print(results.lang)"
   ]
  },
  {
   "cell_type": "code",
   "execution_count": 11,
   "id": "2e7ccab9-f963-49db-b094-905c731204bf",
   "metadata": {},
   "outputs": [],
   "source": [
    "#kknew.cc/zh-tw/code/8o2yj9g.html"
   ]
  },
  {
   "cell_type": "code",
   "execution_count": null,
   "id": "cf9162b8-c384-4238-a469-35dcda2050d4",
   "metadata": {},
   "outputs": [],
   "source": []
  },
  {
   "cell_type": "code",
   "execution_count": null,
   "id": "c6fab37e-b0e1-4ae2-98c6-667e5a3cc6e5",
   "metadata": {},
   "outputs": [],
   "source": []
  },
  {
   "cell_type": "code",
   "execution_count": null,
   "id": "1fb9b7b9-41d1-4ed8-b0d5-d7eee2bd89da",
   "metadata": {},
   "outputs": [],
   "source": []
  }
 ],
 "metadata": {
  "kernelspec": {
   "display_name": "Python 3 (ipykernel)",
   "language": "python",
   "name": "python3"
  },
  "language_info": {
   "codemirror_mode": {
    "name": "ipython",
    "version": 3
   },
   "file_extension": ".py",
   "mimetype": "text/x-python",
   "name": "python",
   "nbconvert_exporter": "python",
   "pygments_lexer": "ipython3",
   "version": "3.12.4"
  }
 },
 "nbformat": 4,
 "nbformat_minor": 5
}
