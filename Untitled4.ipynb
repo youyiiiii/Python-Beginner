{
 "cells": [
  {
   "cell_type": "code",
   "execution_count": 92,
   "id": "7f7443d3-fa69-4892-99dc-72769fef9f5e",
   "metadata": {},
   "outputs": [
    {
     "name": "stdout",
     "output_type": "stream",
     "text": [
      "Requirement already satisfied: opencv-python in c:\\users\\asus\\anaconda3\\lib\\site-packages (4.10.0.84)\n",
      "Requirement already satisfied: numpy>=1.21.2 in c:\\users\\asus\\anaconda3\\lib\\site-packages (from opencv-python) (1.26.4)\n"
     ]
    }
   ],
   "source": [
    "!pip install opencv-python\n",
    "import cv2\n",
    "import numpy as np\n",
    "#Read image\n",
    "image=cv2.imread(\"c:/fruits.jpg\")\n",
    "#Convert BGR to HSV\n",
    "hsv=cv2.cvtColor(image,cv2.COLOR_BGR2HSV)"
   ]
  },
  {
   "cell_type": "code",
   "execution_count": 93,
   "id": "b573c9ac-db39-4d53-bb4d-9bd6d2fa28b6",
   "metadata": {},
   "outputs": [],
   "source": [
    "lower_green=np.array([35,43,46])\n",
    "upper_green=np.array([77,255,255])"
   ]
  },
  {
   "cell_type": "code",
   "execution_count": null,
   "id": "d666f6fe-51ef-4c9b-bea4-b5fb5d2a4d44",
   "metadata": {},
   "outputs": [],
   "source": [
    "#Threshold HSV image to obtain input color\n",
    "mask=cv2.inRange(hsv,lower_green,upper_green)\n",
    "res=cv2.bitwise_and(image,image,mask=mask)\n",
    "#Show original image and result\n",
    "cv2.imshow('Input',image)\n",
    "cv2.imshow('Result HSV',hsv)\n",
    "cv2.imshow('Result RES',res)\n",
    "#Press any key to exit\n",
    "cv2.waitKey(0)\n",
    "cv2.destoryAllWindows()"
   ]
  },
  {
   "cell_type": "code",
   "execution_count": null,
   "id": "e3a79b5e-d114-4aee-9444-e5c97572cba9",
   "metadata": {},
   "outputs": [],
   "source": []
  },
  {
   "cell_type": "code",
   "execution_count": null,
   "id": "c3d83d0a-d85b-49d6-8b4a-de12fd7fd463",
   "metadata": {},
   "outputs": [],
   "source": []
  }
 ],
 "metadata": {
  "kernelspec": {
   "display_name": "Python 3 (ipykernel)",
   "language": "python",
   "name": "python3"
  },
  "language_info": {
   "codemirror_mode": {
    "name": "ipython",
    "version": 3
   },
   "file_extension": ".py",
   "mimetype": "text/x-python",
   "name": "python",
   "nbconvert_exporter": "python",
   "pygments_lexer": "ipython3",
   "version": "3.12.4"
  }
 },
 "nbformat": 4,
 "nbformat_minor": 5
}
