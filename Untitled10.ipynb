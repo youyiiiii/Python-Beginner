{
 "cells": [
  {
   "cell_type": "code",
   "execution_count": 29,
   "id": "236badba-e628-4d24-8546-c4a860ce04cb",
   "metadata": {},
   "outputs": [
    {
     "name": "stdout",
     "output_type": "stream",
     "text": [
      "Requirement already satisfied: Opencv-python in c:\\users\\asus\\anaconda3\\lib\\site-packages (4.10.0.84)\n",
      "Requirement already satisfied: numpy>=1.21.2 in c:\\users\\asus\\anaconda3\\lib\\site-packages (from Opencv-python) (1.26.4)\n"
     ]
    }
   ],
   "source": [
    "! pip install Opencv-python"
   ]
  },
  {
   "cell_type": "code",
   "execution_count": 31,
   "id": "7877c7cb-3bde-4249-96dd-d4912dabba2c",
   "metadata": {
    "scrolled": true
   },
   "outputs": [
    {
     "name": "stdout",
     "output_type": "stream",
     "text": [
      "Requirement already satisfied: msvc-runtime in c:\\users\\asus\\anaconda3\\lib\\site-packages (14.42.34433)\n"
     ]
    }
   ],
   "source": [
    "! pip install msvc-runtime"
   ]
  },
  {
   "cell_type": "code",
   "execution_count": 33,
   "id": "a6a385f0-8ed4-47bb-adc4-78a1b42fc6b1",
   "metadata": {},
   "outputs": [
    {
     "data": {
      "text/plain": [
       "['C:\\\\Users\\\\asus',\n",
       " 'C:\\\\Users\\\\asus\\\\anaconda3\\\\python312.zip',\n",
       " 'C:\\\\Users\\\\asus\\\\anaconda3\\\\DLLs',\n",
       " 'C:\\\\Users\\\\asus\\\\anaconda3\\\\Lib',\n",
       " 'C:\\\\Users\\\\asus\\\\anaconda3',\n",
       " '',\n",
       " 'C:\\\\Users\\\\asus\\\\AppData\\\\Roaming\\\\Python\\\\Python312\\\\site-packages',\n",
       " 'C:\\\\Users\\\\asus\\\\anaconda3\\\\Lib\\\\site-packages',\n",
       " 'C:\\\\Users\\\\asus\\\\anaconda3\\\\Lib\\\\site-packages\\\\win32',\n",
       " 'C:\\\\Users\\\\asus\\\\anaconda3\\\\Lib\\\\site-packages\\\\win32\\\\lib',\n",
       " 'C:\\\\Users\\\\asus\\\\anaconda3\\\\Lib\\\\site-packages\\\\Pythonwin']"
      ]
     },
     "execution_count": 33,
     "metadata": {},
     "output_type": "execute_result"
    }
   ],
   "source": [
    "import os\n",
    "os.sys.path"
   ]
  },
  {
   "cell_type": "code",
   "execution_count": null,
   "id": "ba73712e-7d60-40e1-8463-e37368b31705",
   "metadata": {},
   "outputs": [],
   "source": [
    "! pip uninstall mediapipe\n",
    "! pip install mediapipe"
   ]
  },
  {
   "cell_type": "code",
   "execution_count": null,
   "id": "401fd13f-623f-472e-a4c8-98d06dcf9ad1",
   "metadata": {},
   "outputs": [],
   "source": [
    "import cv2\n",
    "import mediapipe as mp\n",
    "import time"
   ]
  },
  {
   "cell_type": "code",
   "execution_count": null,
   "id": "f1857b54-097e-4787-a395-7a624ea713f1",
   "metadata": {},
   "outputs": [],
   "source": []
  }
 ],
 "metadata": {
  "kernelspec": {
   "display_name": "Python 3 (ipykernel)",
   "language": "python",
   "name": "python3"
  },
  "language_info": {
   "codemirror_mode": {
    "name": "ipython",
    "version": 3
   },
   "file_extension": ".py",
   "mimetype": "text/x-python",
   "name": "python",
   "nbconvert_exporter": "python",
   "pygments_lexer": "ipython3",
   "version": "3.12.4"
  }
 },
 "nbformat": 4,
 "nbformat_minor": 5
}
